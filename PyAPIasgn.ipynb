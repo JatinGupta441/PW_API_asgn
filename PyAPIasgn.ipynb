{
 "cells": [
  {
   "cell_type": "code",
   "execution_count": null,
   "id": "8ce32796",
   "metadata": {},
   "outputs": [],
   "source": [
    "#Q1\n",
    "#Application programming Interface (API) is a set of protocols through which one application can interact with other\n",
    "#heterogenious application.\n",
    "#Eg: used by gpay to access account information from respective bank systems during a transactional process."
   ]
  },
  {
   "cell_type": "code",
   "execution_count": null,
   "id": "fa40a973",
   "metadata": {},
   "outputs": [],
   "source": [
    "#Q2\n",
    "#Advantages\n",
    "#Enables interaction between different software systems.\n",
    "#Reduces development time by using pre-built functionalities.\n",
    "#Disadvantages\n",
    "#APIs can be susceptible to security vulnerabilities.\n",
    "#Applications relying on external APIs are dependent on the stability and availability of those APIs."
   ]
  },
  {
   "cell_type": "code",
   "execution_count": null,
   "id": "3d95d905",
   "metadata": {},
   "outputs": [],
   "source": [
    "#Q3\n",
    "#WebAPI is used when accessing heterogenious applications over the web usually using HTTP protocols.\n",
    "#The difference between API and WEB API is that WebAPI is a subset of API which is used for accessing application through web."
   ]
  },
  {
   "cell_type": "code",
   "execution_count": null,
   "id": "fa380146",
   "metadata": {},
   "outputs": [],
   "source": [
    "#Q4\n",
    "#REST is an architectural style that uses a stateless client-server communication model usually using the HTTP methods.\n",
    "#SOAP is a protocol used for exchanging structured data in the web.\n",
    "#Shortcoming of SOAP\n",
    "#XML can be heavyweight, leading to slower performance compared to lightweight formats like JSON.\n",
    "#SOAP messages can be complex."
   ]
  },
  {
   "cell_type": "code",
   "execution_count": null,
   "id": "af16b8d6",
   "metadata": {},
   "outputs": [],
   "source": [
    "#Q5\n",
    "#REST- stateless architecture, JSON or XML message format, uses standard HTTP methods for communication.\n",
    "#SOAP- Protocol based architecture, XML message format, used HTTP, SMPT, etc methods for communication."
   ]
  }
 ],
 "metadata": {
  "kernelspec": {
   "display_name": "Python 3 (ipykernel)",
   "language": "python",
   "name": "python3"
  },
  "language_info": {
   "codemirror_mode": {
    "name": "ipython",
    "version": 3
   },
   "file_extension": ".py",
   "mimetype": "text/x-python",
   "name": "python",
   "nbconvert_exporter": "python",
   "pygments_lexer": "ipython3",
   "version": "3.9.13"
  }
 },
 "nbformat": 4,
 "nbformat_minor": 5
}
